{
  "nbformat": 4,
  "nbformat_minor": 0,
  "metadata": {
    "colab": {
      "name": "Lab03_DA.ipynb",
      "provenance": [],
      "collapsed_sections": []
    },
    "kernelspec": {
      "name": "python3",
      "display_name": "Python 3"
    }
  },
  "cells": [
    {
      "cell_type": "code",
      "metadata": {
        "id": "Fvxou3XIHKnQ",
        "colab_type": "code",
        "colab": {}
      },
      "source": [
        "!pip install arviz"
      ],
      "execution_count": 0,
      "outputs": []
    },
    {
      "cell_type": "code",
      "metadata": {
        "id": "Xc23uYU4GpWy",
        "colab_type": "code",
        "colab": {
          "base_uri": "https://localhost:8080/",
          "height": 141
        },
        "outputId": "e52c7fd6-5cdc-4e7f-dccf-291ff90cf81a"
      },
      "source": [
        "import pystan\n",
        "import arviz as az\n",
        "import numpy as np\n",
        "import scipy.stats as stats\n",
        "import os\n",
        "from google.colab import drive\n",
        "drive.mount('/content/gdrive')\n",
        "working_directory = 'My Drive/DataAnalytics/'\n",
        "wd=\"/content/gdrive/\" + working_directory\n",
        "os.chdir(wd)\n",
        "import stan_utility\n",
        "\n",
        "dirpath = os.getcwd()\n",
        "print(\"current directory is : \" + dirpath)"
      ],
      "execution_count": 5,
      "outputs": [
        {
          "output_type": "stream",
          "text": [
            "Go to this URL in a browser: https://accounts.google.com/o/oauth2/auth?client_id=947318989803-6bn6qk8qdgf4n4g3pfee6491hc0brc4i.apps.googleusercontent.com&redirect_uri=urn%3aietf%3awg%3aoauth%3a2.0%3aoob&response_type=code&scope=email%20https%3a%2f%2fwww.googleapis.com%2fauth%2fdocs.test%20https%3a%2f%2fwww.googleapis.com%2fauth%2fdrive%20https%3a%2f%2fwww.googleapis.com%2fauth%2fdrive.photos.readonly%20https%3a%2f%2fwww.googleapis.com%2fauth%2fpeopleapi.readonly\n",
            "\n",
            "Enter your authorization code:\n",
            "··········\n",
            "Mounted at /content/gdrive\n",
            "current directory is : /content/gdrive/My Drive/DataAnalytics\n"
          ],
          "name": "stdout"
        }
      ]
    },
    {
      "cell_type": "code",
      "metadata": {
        "id": "-04k8z_GacCx",
        "colab_type": "code",
        "colab": {}
      },
      "source": [
        "import matplotlib.pyplot as plt\n",
        "import matplotlib as mpl\n",
        "\n",
        "light=\"#FFFCDC\"\n",
        "light_highlight=\"#FEF590\"\n",
        "mid=\"#FDED2A\"\n",
        "mid_highlight=\"#f0dc05\"\n",
        "dark=\"#EECA02\"\n",
        "dark_highlight=\"#BB9700\"\n",
        "green=\"#00FF00\"\n",
        "light_grey=\"#DDDDDD\"\n",
        "\n",
        "plt.style.context('seaborn-white')\n",
        "mpl.rcParams['figure.dpi']= 200"
      ],
      "execution_count": 0,
      "outputs": []
    },
    {
      "cell_type": "code",
      "metadata": {
        "id": "05ejM13nafjE",
        "colab_type": "code",
        "colab": {
          "base_uri": "https://localhost:8080/",
          "height": 674
        },
        "outputId": "4a31e2fe-1b1f-4389-b9c5-fd2a840bc36a"
      },
      "source": [
        "fig, axes = plt.subplots(1, 1, figsize=(7, 4))\n",
        "x2=np.linspace(0,20/1e5,500)\n",
        "alpha=20\n",
        "beta=430000\n",
        "axes.plot(x2,stats.gamma.pdf(x2,a=alpha,scale=1/beta),color=dark,linewidth=2)\n",
        "axes.set_yticks(())\n",
        "axes.set_xticks([0,20/1e5])\n",
        "\n",
        "plt.show()"
      ],
      "execution_count": 7,
      "outputs": [
        {
          "output_type": "display_data",
          "data": {
            "image/png": "[encoded data removed]",
            "text/plain": [
              "<Figure size 1400x800 with 1 Axes>"
            ]
          },
          "metadata": {
            "tags": [],
            "needs_background": "light"
          }
        }
      ]
    },
    {
      "cell_type": "code",
      "metadata": {
        "id": "rU3koxDqambd",
        "colab_type": "code",
        "colab": {
          "base_uri": "https://localhost:8080/",
          "height": 624
        },
        "outputId": "4c0511f2-7904-444a-bbe2-20f6f90747e7"
      },
      "source": [
        "with open('gamma_stan.stan', 'r') as file:\n",
        "    print(file.read())"
      ],
      "execution_count": 136,
      "outputs": [
        {
          "output_type": "stream",
          "text": [
            "functions {\n",
            "  // Difference between one-sided Gaussian tail probability and target probability\n",
            "  vector tail_delta(vector y, vector theta, real[] x_r, int[] x_i) {\n",
            "    vector[1] deltas;\n",
            "    deltas[1] = 2 * (normal_cdf(theta[1], 0, exp(y[1])) - 0.5) - 0.98;\n",
            "    return deltas;\n",
            "  }\n",
            "}\n",
            "\n",
            "data {\n",
            "  vector[1] y_guess; // Initial guess of Gaussian standard deviation\n",
            "  vector[1] theta;       // Target quantile\n",
            "}\n",
            "\n",
            "transformed data {\n",
            "  vector[1] y;\n",
            "  real x_r[0];\n",
            "  int x_i[0];\n",
            "  \n",
            "  // Find Gaussian standard deviation that ensures 98% probabilty below 15\n",
            "  y = algebra_solver(tail_delta, y_guess, theta, x_r, x_i);\n",
            "  \n",
            "  print(\"Standard deviation = \", exp(y[1]));\n",
            "}\n",
            "\n",
            "generated quantities {\n",
            "    real sigma = exp(y[1]);\n",
            "    real beta = (1 / theta[1]);\n",
            "    real alpha = (sigma * beta) ^ 2;\n",
            "    \n",
            "    real gamma = gamma_rng(alpha, beta);\n",
            "    print(\"Beta = \", beta);\n",
            "    print(\"Alpha = \", alpha);\n",
            "    print(\"Gamma = \", gamma);\n",
            "}\n"
          ],
          "name": "stdout"
        }
      ]
    },
    {
      "cell_type": "code",
      "metadata": {
        "id": "jppW_LJmbPq1",
        "colab_type": "code",
        "colab": {
          "base_uri": "https://localhost:8080/",
          "height": 35
        },
        "outputId": "876182af-7a1f-4935-ba4e-f0b5b706bf65"
      },
      "source": [
        "model_prior=stan_utility.compile_model('gamma_stan.stan')"
      ],
      "execution_count": 137,
      "outputs": [
        {
          "output_type": "stream",
          "text": [
            "Using cached StanModel\n"
          ],
          "name": "stdout"
        }
      ]
    },
    {
      "cell_type": "code",
      "metadata": {
        "id": "OmEdfp_dblRW",
        "colab_type": "code",
        "colab": {
          "base_uri": "https://localhost:8080/",
          "height": 87
        },
        "outputId": "df6adf5c-a43b-4edf-88a4-31bca6f0e42f"
      },
      "source": [
        "theta=np.array([np.random.randint(low=1, high=10)])\n",
        "y_guess=np.array([np.random.randint(low=1, high=10)])\n",
        "data=dict(y_guess=y_guess,theta=theta)\n",
        "model_prior2 = model_prior.sampling(data=data, algorithm=\"Fixed_param\", iter=1, warmup=0, chains=1, seed=1052020)\n",
        "sigma = np.round(model_prior2.extract()['sigma'][0])\n",
        "gamma = np.round(model_prior2.extract()['gamma'][0])\n",
        "beta = np.round(model_prior2.extract()['beta'][0])\n",
        "alpha = np.round(model_prior2.extract()['alpha'][0])\n",
        "print(sigma)\n",
        "print(alpha)\n",
        "print(beta)\n",
        "print(gamma)"
      ],
      "execution_count": 142,
      "outputs": [
        {
          "output_type": "stream",
          "text": [
            "4.0\n",
            "0.0\n",
            "0.0\n",
            "0.0\n"
          ],
          "name": "stdout"
        }
      ]
    },
    {
      "cell_type": "code",
      "metadata": {
        "id": "k93QqgI9woeq",
        "colab_type": "code",
        "colab": {
          "base_uri": "https://localhost:8080/",
          "height": 600
        },
        "outputId": "7adc1f24-db20-494e-9c60-1d72deb8fb08"
      },
      "source": [
        "fig, ax2 = plt.subplots(1, 1,figsize=(5, 3))\n",
        "x2=np.linspace(0,3*sigma,1000)\n",
        "x4=np.linspace(0,theta[0],1000)\n",
        "ax2.plot(x2,2*stats.norm.pdf(x2,scale=sigma),color=dark,linewidth=2)\n",
        "ax2.fill_between(x4,2*stats.norm.pdf(x4,scale=sigma),0,color=dark)\n",
        "ax2.set_yticks([])\n",
        "ax2.set_xticks([0,theta[0]])\n",
        "ax2.set_title('Number Distribution')\n",
        "plt.show()"
      ],
      "execution_count": 144,
      "outputs": [
        {
          "output_type": "display_data",
          "data": {
            "image/png": "[encoded data removed]",
            "text/plain": [
              "<Figure size 1000x600 with 1 Axes>"
            ]
          },
          "metadata": {
            "tags": [],
            "needs_background": "light"
          }
        }
      ]
    },
    {
      "cell_type": "markdown",
      "metadata": {
        "id": "zUXdtpevlH_q",
        "colab_type": "text"
      },
      "source": [
        "Negative binomial distribution"
      ]
    },
    {
      "cell_type": "code",
      "metadata": {
        "id": "ZAx8sv4ulHgH",
        "colab_type": "code",
        "colab": {}
      },
      "source": [
        ""
      ],
      "execution_count": 0,
      "outputs": []
    }
  ]
}